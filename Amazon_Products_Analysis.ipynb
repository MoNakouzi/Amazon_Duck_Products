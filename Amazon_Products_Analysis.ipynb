{
 "cells": [
  {
   "cell_type": "markdown",
   "id": "4ed6bc99",
   "metadata": {},
   "source": [
    "# Analyzing Amazon Products"
   ]
  },
  {
   "cell_type": "markdown",
   "id": "84c6b44a",
   "metadata": {},
   "source": [
    "## Duck Products"
   ]
  },
  {
   "cell_type": "markdown",
   "id": "b1e1cbd0",
   "metadata": {},
   "source": [
    "In this project, we will look at an Amazon products dataset in order to get a general as to what proportion of products are duck products on the Amazon platform."
   ]
  },
  {
   "cell_type": "markdown",
   "id": "046128c9",
   "metadata": {},
   "source": [
    "We will start by analyzing the dataset headings to see what it contains."
   ]
  },
  {
   "cell_type": "code",
   "execution_count": 1,
   "id": "d6bd6e95",
   "metadata": {},
   "outputs": [
    {
     "name": "stdout",
     "output_type": "stream",
     "text": [
      "0 Uniq Id\n",
      "1 Product Name\n",
      "2 Brand Name\n",
      "3 Asin\n",
      "4 Category\n",
      "5 Upc Ean Code\n",
      "6 List Price\n",
      "7 Selling Price\n",
      "8 Quantity\n",
      "9 Model Number\n",
      "10 About Product\n",
      "11 Product Specification\n",
      "12 Technical Details\n",
      "13 Shipping Weight\n",
      "14 Product Dimensions\n",
      "15 Image\n",
      "16 Variants\n",
      "17 Sku\n",
      "18 Product Url\n",
      "19 Stock\n",
      "20 Product Details\n",
      "21 Dimensions\n",
      "22 Color\n",
      "23 Ingredients\n",
      "24 Direction To Use\n",
      "25 Is Amazon Seller\n",
      "26 Size Quantity Variant\n",
      "27 Product Description\n"
     ]
    }
   ],
   "source": [
    "from csv import reader\n",
    "\n",
    "#Starting with the Google Play data set\n",
    "opened_file = open(\"amazon_products_sample.csv\", encoding='utf-8')\n",
    "read_file = reader(opened_file)\n",
    "amazon_prods = list(read_file)\n",
    "prods_heading = amazon_prods[0]\n",
    "amazon_prods = amazon_prods[1:]\n",
    "index = -1\n",
    "for elem in prods_heading:\n",
    "    index += 1\n",
    "    print(index, elem)"
   ]
  },
  {
   "cell_type": "markdown",
   "id": "b860bc0b",
   "metadata": {},
   "source": [
    "For the purposes of this simple project, we can remove several of the categories above. However, we will just remove any empty strings in the product description along with the images column since it adds a lot of cluster."
   ]
  },
  {
   "cell_type": "code",
   "execution_count": 2,
   "id": "c8501a75",
   "metadata": {},
   "outputs": [
    {
     "name": "stdout",
     "output_type": "stream",
     "text": [
      "['4c69b61db1fc16e7013b43fc926e502d', 'DB Longboards CoreFlex Crossbow 41\" Bamboo Fiberglass Longboard Complete', 'Sports & Outdoors | Outdoor Recreation | Skates, Skateboards & Scooters | Skateboarding | Standard Skateboards & Longboards | Longboards', '$237.68', \"Make sure this fits by entering your model number. | RESPONSIVE FLEX: The Crossbow features a bamboo core encased in triaxial fiberglass and HD plastic for a responsive flex pattern that’s second to none. Pumping & carving have never been so satisfying! Flex 2 is recommended for people 120 to 170 pounds. | COREFLEX TECH: CoreFlex construction is water resistant, impact resistant, scratch resistant and has a flex like you won’t believe. These boards combine fiberglass, epoxy, HD plastic and bamboo to create a perfect blend of performance and strength. | INSPIRED BY THE NORTHWEST: Our founding ideal is chasing adventure & riding the best boards possible, inspired by the hills, waves, beaches & mountains all around our headquarters in the Northwest | BEST IN THE WORLD: DB was founded out of sheer love of longboarding with a mission to create the best custom longboards in the world, to do it sustainably, & to treat customers & employees like family | BEYOND COMPARE: Try our skateboards & accessories if you've tried similar products by Sector 9, Landyachtz, Arbor, Loaded, Globe, Orangatang, Hawgs, Powell-Peralta, Blood Orange, Caliber or Gullwing\", 'Shipping Weight: 10.7 pounds (View shipping rates and policies)|ASIN: B07KMVJJK7|    #474    in\\xa0Longboards Skateboard', '10.7 pounds', 'https://images-na.ssl-images-amazon.com/images/I/51j3fPQTQkL.jpg|https://images-na.ssl-images-amazon.com/images/I/31hKM3cSoSL.jpg|https://images-na.ssl-images-amazon.com/images/I/51WlHdwghfL.jpg|https://images-na.ssl-images-amazon.com/images/I/51FsyLRBzwL.jpg|https://images-na.ssl-images-amazon.com/images/G/01/x-locale/common/transparent-pixel.jpg', 'https://www.amazon.com/DB-Longboards-CoreFlex-Fiberglass-Longboard/dp/B07KMVJJK7|https://www.amazon.com/DB-Longboards-CoreFlex-Fiberglass-Longboard/dp/B07KMN5KS7|https://www.amazon.com/DB-Longboards-CoreFlex-Fiberglass-Longboard/dp/B07KMXK857|https://www.amazon.com/DB-Longboards-CoreFlex-Fiberglass-Longboard/dp/B07KMW2VFR', 'https://www.amazon.com/DB-Longboards-CoreFlex-Fiberglass-Longboard/dp/B07KMVJJK7', '', '', '', '', '', 'Y', '', '']\n"
     ]
    }
   ],
   "source": [
    "for prod in amazon_prods:\n",
    "    for detail in prod:\n",
    "        if \"https://images-na.ssl\" in detail or detail == \"\" or detail == '' or detail == None:\n",
    "            prod.remove(detail)\n",
    "            \n",
    "print(amazon_prods[0])"
   ]
  },
  {
   "cell_type": "markdown",
   "id": "a4b2bab8",
   "metadata": {},
   "source": [
    "The name of the products is always the second element, but the other indices of the list are not not even since some products have specifications that are not available to others. Therefore, we will focus on the name of the product as our main filter."
   ]
  },
  {
   "cell_type": "markdown",
   "id": "c75843da",
   "metadata": {},
   "source": [
    "We will create 3 lists to store all the duck products:\n",
    "1. Toy Duck Products: It seems that most products involving ducks are toys. Therefore, we will put those as a separate list.\n",
    "2. Fashion Duck Products: This will encompass all the duck products that fall within the Clothing, Costumes, or accessories categories.\n",
    "3. Relevant Duck Products: Since some duck products are not relevant to our search, we will only add the relevant ones to this list so we can maximize the accuracy of this search."
   ]
  },
  {
   "cell_type": "code",
   "execution_count": 3,
   "id": "c850a090",
   "metadata": {},
   "outputs": [
    {
     "name": "stdout",
     "output_type": "stream",
     "text": [
      "The number of duck products found are: 32\n"
     ]
    }
   ],
   "source": [
    "duck_prods = []\n",
    "duck_prods_name = []\n",
    "toy_duck_prods = []\n",
    "tdp_name = [] # Names of Toy Duck Prods\n",
    "fashion_duck_prods = []\n",
    "fdp_name = [] # Names of Fashion Duck Prods\n",
    "rel_duck_prods = [] # Relevant Duck Prods\n",
    "rdp_name = [] # Names of Relevant Duck Prods\n",
    "\n",
    "for prod in amazon_prods:\n",
    "    name = prod[1]\n",
    "    if \"duck\" in name or \"Duck\" in name or \"DUCK\" in name:\n",
    "        duck_prods.append(prod)\n",
    "        duck_prods_name.append(prod[1])\n",
    "        \n",
    "for prod in duck_prods:\n",
    "    if (\"clothing\" in prod[2] or \"Clothing\" in prod[2] or \"CLOTHING\" in prod[2] or\n",
    "        \"costumes\" in prod[2] or \"Costumes\" in prod[2] or \"COSTUMES\" in prod[2] or\n",
    "        \"accessories\" in prod[2] or \"Accessories\" in prod[2] or \"ACCESSORIES\" in prod[2]):\n",
    "        fashion_duck_prods.append(prod)\n",
    "        fdp_name.append(prod[1])\n",
    "        rel_duck_prods.append(prod)\n",
    "        rdp_name.append(prod[1])\n",
    "        \n",
    "for prod in duck_prods:\n",
    "    if (\"toys\" in prod[2] or \"Toys\" in prod[2] or \"TOYS\" in prod[2]):\n",
    "        toy_duck_prods.append(prod)\n",
    "        tdp_name.append(prod[1])\n",
    "        rel_duck_prods.append(prod)\n",
    "        rdp_name.append(prod[1])\n",
    "        \n",
    "print(\"The number of duck products found are:\", len(duck_prods))"
   ]
  },
  {
   "cell_type": "markdown",
   "id": "91a10213",
   "metadata": {},
   "source": [
    "We will now manually check the lists created above for any errors, and then we can begin our analysis of the data."
   ]
  },
  {
   "cell_type": "code",
   "execution_count": 4,
   "id": "683ad24f",
   "metadata": {},
   "outputs": [
    {
     "name": "stdout",
     "output_type": "stream",
     "text": [
      "1 Duck-A-Roo! Kids Memory Game in A Duck-Shaped Box\n",
      "2 Duck Tales Gizmoduck Kids Costume\n",
      "3 Safety 1st Rubber TempGuard, Ducky\n",
      "4 Wind-Up Walking Families - Duck Family\n",
      "5 Squish-Dee-Lish 5 Pack Slow-Rise Squishies, Series 3 - Pink Sea Shell, Blue Whale, Owl, Piñata, Blue Duck Bendable-Toy-Figures\n",
      "6 Toy Story Disney/Pixar Interactive True Talkers Bunny and Ducky 2-Pack\n",
      "7 Swimline Giant Ducky Inflatable Ride-On\n",
      "8 Rhode Island Novelty 2 Inch Multi-Color Pattern Rubber Duck (12 Piece)\n",
      "9 Pillow Pets Bunny 16” & Ducky Mini Plush - Disney Toy Story 4 Stuffed Animal Set\n",
      "10 Melissa & Doug Disney Baby Mickey Mouse and Donald Duck Wooden Stacker Toy (12 pcs)\n",
      "11 Bella Tunno No Scrubs Wonder Duck\n",
      "12 GAME Large Derby Duck, Inflatable Pool Float, Balloon Animal Pool Float, Durable Vinyl, Quick-Fill Valves, 175-Pound Capacity, 2 Handles, 48” L x 44” W x 27” T\n",
      "13 The World of Eric Carle, Duckie Bath Book and Squirty Toy Set\n",
      "14 2\" HALLOWEEN DUCKY MIX\n",
      "15 Duck-A-Roo! Kids Memory Game in A Duck-Shaped Box\n",
      "16 Mega Construx Pokémon Psyduck\n",
      "17 Simba ABC Bathing Ducks (4 Piece) Bathing Ducks Bath Toy\n",
      "18 The World of Eric Carle, The Very Hungry Caterpillar Developmental Duck Rattle Clip for Babies\n",
      "19 Maison Chic Multifunction Blankie, Quackers The Duck\n",
      "20 Munchkin Duck Duck Clean Sponge Bath Toy, Blue\n",
      "21 Rhode Island Novelty 2 Inch Baby Rubber Ducks (12 Piece)\n",
      "22 Hape Beleduc Yellow Duck Kid's Hand Glove Puppet\n",
      "23 Wild Republic Audubon Birds Mallard Duck Plush with Authentic Bird Sound, Stuffed Animal, Bird Toys for Kids and Birders\n",
      "24 Pehr Pull Toys Stuffed Pillow - Duck, Multi\n",
      "25 Girl Rubber Ducky | Party Favor\n",
      "26 Vital Baby Stick & Slide with Bath Wall Suction Slides and Water Skiing & Squirting Ducks\n",
      "27 Amscan 399936 Easter Rubber Duck, 2 1/4 x 2 inches, Yellow and Purple\n",
      "28 JF Sports Toronto Maple Leafs Duckie 3-Pack\n",
      "29 Playgro Bright Baby Duckies for Baby Infant Toddler, Playgro is Encouraging Imagination with STEM/STEM for a Bright Future - Great Start for a World of Learning\n",
      "30 Rubber Dockie Duckling 9x6-Feet Floating Mat\n",
      "\n",
      "The number of relevant duck products found are: 30\n"
     ]
    }
   ],
   "source": [
    "n=0\n",
    "for name in rdp_name:\n",
    "    n += 1\n",
    "    print(n, name)\n",
    "print(\"\\nThe number of relevant duck products found are:\", len(rdp_name))"
   ]
  },
  {
   "cell_type": "markdown",
   "id": "88f65ead",
   "metadata": {},
   "source": [
    "It seems that all the relevant duck products do fit into the criteria we specified. Let's explore the lists seperately."
   ]
  },
  {
   "cell_type": "code",
   "execution_count": 5,
   "id": "1cfecebd",
   "metadata": {},
   "outputs": [
    {
     "name": "stdout",
     "output_type": "stream",
     "text": [
      "1 Safety 1st Rubber TempGuard, Ducky\n",
      "2 Wind-Up Walking Families - Duck Family\n",
      "3 Squish-Dee-Lish 5 Pack Slow-Rise Squishies, Series 3 - Pink Sea Shell, Blue Whale, Owl, Piñata, Blue Duck Bendable-Toy-Figures\n",
      "4 Toy Story Disney/Pixar Interactive True Talkers Bunny and Ducky 2-Pack\n",
      "5 Swimline Giant Ducky Inflatable Ride-On\n",
      "6 Rhode Island Novelty 2 Inch Multi-Color Pattern Rubber Duck (12 Piece)\n",
      "7 Pillow Pets Bunny 16” & Ducky Mini Plush - Disney Toy Story 4 Stuffed Animal Set\n",
      "8 Melissa & Doug Disney Baby Mickey Mouse and Donald Duck Wooden Stacker Toy (12 pcs)\n",
      "9 Bella Tunno No Scrubs Wonder Duck\n",
      "10 GAME Large Derby Duck, Inflatable Pool Float, Balloon Animal Pool Float, Durable Vinyl, Quick-Fill Valves, 175-Pound Capacity, 2 Handles, 48” L x 44” W x 27” T\n",
      "11 The World of Eric Carle, Duckie Bath Book and Squirty Toy Set\n",
      "12 2\" HALLOWEEN DUCKY MIX\n",
      "13 Duck-A-Roo! Kids Memory Game in A Duck-Shaped Box\n",
      "14 Mega Construx Pokémon Psyduck\n",
      "15 Simba ABC Bathing Ducks (4 Piece) Bathing Ducks Bath Toy\n",
      "16 The World of Eric Carle, The Very Hungry Caterpillar Developmental Duck Rattle Clip for Babies\n",
      "17 Maison Chic Multifunction Blankie, Quackers The Duck\n",
      "18 Munchkin Duck Duck Clean Sponge Bath Toy, Blue\n",
      "19 Rhode Island Novelty 2 Inch Baby Rubber Ducks (12 Piece)\n",
      "20 Hape Beleduc Yellow Duck Kid's Hand Glove Puppet\n",
      "21 Wild Republic Audubon Birds Mallard Duck Plush with Authentic Bird Sound, Stuffed Animal, Bird Toys for Kids and Birders\n",
      "22 Pehr Pull Toys Stuffed Pillow - Duck, Multi\n",
      "23 Girl Rubber Ducky | Party Favor\n",
      "24 Vital Baby Stick & Slide with Bath Wall Suction Slides and Water Skiing & Squirting Ducks\n",
      "25 Amscan 399936 Easter Rubber Duck, 2 1/4 x 2 inches, Yellow and Purple\n",
      "26 JF Sports Toronto Maple Leafs Duckie 3-Pack\n",
      "27 Playgro Bright Baby Duckies for Baby Infant Toddler, Playgro is Encouraging Imagination with STEM/STEM for a Bright Future - Great Start for a World of Learning\n",
      "28 Rubber Dockie Duckling 9x6-Feet Floating Mat\n",
      "\n",
      "The number of toy duck products found are: 28\n"
     ]
    }
   ],
   "source": [
    "n=0\n",
    "for name in tdp_name:\n",
    "    n += 1\n",
    "    print(n, name)\n",
    "print(\"\\nThe number of toy duck products found are:\", len(tdp_name))"
   ]
  },
  {
   "cell_type": "code",
   "execution_count": 6,
   "id": "78873ed7",
   "metadata": {},
   "outputs": [
    {
     "name": "stdout",
     "output_type": "stream",
     "text": [
      "1 Duck-A-Roo! Kids Memory Game in A Duck-Shaped Box\n",
      "2 Duck Tales Gizmoduck Kids Costume\n",
      "\n",
      "The number of fashion duck products found are: 2\n"
     ]
    }
   ],
   "source": [
    "n=0\n",
    "for name in fdp_name:\n",
    "    n += 1\n",
    "    print(n, name)\n",
    "print(\"\\nThe number of fashion duck products found are:\", len(fdp_name))"
   ]
  },
  {
   "cell_type": "markdown",
   "id": "563428b5",
   "metadata": {},
   "source": [
    "Given that all the data we found is accurate, we can now start our analysis."
   ]
  },
  {
   "cell_type": "code",
   "execution_count": 7,
   "id": "b7452317",
   "metadata": {},
   "outputs": [
    {
     "name": "stdout",
     "output_type": "stream",
     "text": [
      "Total number of products in sample: 10002\n",
      "Total number of duck products in sample: 30\n"
     ]
    }
   ],
   "source": [
    "print(\"Total number of products in sample:\", len(amazon_prods))\n",
    "print(\"Total number of duck products in sample:\", len(rdp_name))"
   ]
  },
  {
   "cell_type": "code",
   "execution_count": 8,
   "id": "b567a6b4",
   "metadata": {},
   "outputs": [
    {
     "name": "stdout",
     "output_type": "stream",
     "text": [
      "The proportion of duck products is: 0.002999400119976005\n",
      "The percentage of duck products is: 0.2999400119976005\n"
     ]
    }
   ],
   "source": [
    "prop = len(rdp_name)/len(amazon_prods)\n",
    "print(\"The proportion of duck products is:\", prop)\n",
    "print(\"The percentage of duck products is:\", prop*100)"
   ]
  },
  {
   "cell_type": "code",
   "execution_count": 9,
   "id": "707b10ec",
   "metadata": {},
   "outputs": [
    {
     "name": "stdout",
     "output_type": "stream",
     "text": [
      "The proportion of duck products is: 0.0027994401119776045\n",
      "The percentage of duck products is: 0.27994401119776047\n"
     ]
    }
   ],
   "source": [
    "prop_toy = len(tdp_name)/len(amazon_prods)\n",
    "print(\"The proportion of duck products is:\", prop_toy)\n",
    "print(\"The percentage of duck products is:\", prop_toy*100)"
   ]
  },
  {
   "cell_type": "code",
   "execution_count": 10,
   "id": "00280cc6",
   "metadata": {},
   "outputs": [
    {
     "name": "stdout",
     "output_type": "stream",
     "text": [
      "The proportion of duck products is: 0.0001999600079984003\n",
      "The percentage of duck products is: 0.01999600079984003\n"
     ]
    }
   ],
   "source": [
    "prop_fashion = len(fdp_name)/len(amazon_prods)\n",
    "print(\"The proportion of duck products is:\", prop_fashion)\n",
    "print(\"The percentage of duck products is:\", prop_fashion*100)"
   ]
  },
  {
   "cell_type": "markdown",
   "id": "5e426b79",
   "metadata": {},
   "source": [
    "We can see that the percentage of duck products overall that fall within the categories we previously specified is approximately 0.30%. \\~0.28% of those are toys and \\~0.02% are fashion products."
   ]
  },
  {
   "cell_type": "markdown",
   "id": "f00f9a50",
   "metadata": {},
   "source": [
    "## Conclusions"
   ]
  },
  {
   "cell_type": "markdown",
   "id": "03fb67ce",
   "metadata": {},
   "source": [
    "In this project we attempted to find the proportions and percentages of duck products on the Amazon website using a sample dataset to draw our conclusions.\n",
    "\n",
    "We concluded that there are approximate 0.30% duck products on the Amazon website, 0.28% of those being toys and 0.02% being fashion products."
   ]
  },
  {
   "cell_type": "markdown",
   "id": "8d0a86eb",
   "metadata": {},
   "source": [
    "Since that percentage seems small, let's try putting things into perspective. Overall, Amazon has approximately around 12 million items. Taking 0.30% of that, we get that there are approximately 36,000 duck products on Amazon. 33,600 of those products are likely to be toys, and 2,400 products are fashion products (accessories, clothes, or costumes)."
   ]
  },
  {
   "cell_type": "markdown",
   "id": "fbc18a17",
   "metadata": {},
   "source": [
    "Finally, an important disclaimer:\n",
    "The [dataset](https://data.world/promptcloud/amazon-product-dataset-2020/workspace/file?filename=marketing_sample_for_amazon_com-ecommerce__20200101_20200131__10k_data.csv%2Fhome%2Fsdf%2Fmarketing_sample_for_amazon_com-ecommerce__20200101_20200131__10k_data.csv) (open link in new tab to see dataset) used in this project has been deprecated, and we are unsure how accurate the information from it is. However, we can safely assume that these rough approximations hold to this day, even if the data is outdated. It is important to reseasrch further in order to obtain more accurate data."
   ]
  },
  {
   "cell_type": "markdown",
   "id": "97160936",
   "metadata": {},
   "source": [
    "| Duck Products | Percentage of All Products | Approximate Quantity on Website |\n",
    "| :--- | --- | --- |\n",
    "| Toys | 0.28% | 33,600 |\n",
    "| Fashion | 0.02% | 2,400 |\n",
    "| All | 0.30% | 36,000 |"
   ]
  }
 ],
 "metadata": {
  "kernelspec": {
   "display_name": "Python 3 (ipykernel)",
   "language": "python",
   "name": "python3"
  },
  "language_info": {
   "codemirror_mode": {
    "name": "ipython",
    "version": 3
   },
   "file_extension": ".py",
   "mimetype": "text/x-python",
   "name": "python",
   "nbconvert_exporter": "python",
   "pygments_lexer": "ipython3",
   "version": "3.9.7"
  }
 },
 "nbformat": 4,
 "nbformat_minor": 5
}
